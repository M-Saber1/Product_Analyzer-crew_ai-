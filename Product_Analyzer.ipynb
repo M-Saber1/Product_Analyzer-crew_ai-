{
  "cells": [
    {
      "cell_type": "markdown",
      "metadata": {},
      "source": [
        "## Import Libraries"
      ]
    },
    {
      "cell_type": "code",
      "execution_count": null,
      "metadata": {
        "id": "-3hAOYc9vt7g"
      },
      "outputs": [],
      "source": [
        "from crewai import Agent, Task, Crew, Process, LLM\n",
        "from crewai.tools import tool\n",
        "from crewai.knowledge.source.string_knowledge_source import StringKnowledgeSource\n",
        "import agentops\n",
        "from pydantic import BaseModel, Field\n",
        "from typing import List\n",
        "from tavily import TavilyClient\n",
        "from scrapegraph_py import Client\n",
        "from langchain_community.llms import Ollama\n",
        "import os\n",
        "import json"
      ]
    },
    {
      "cell_type": "markdown",
      "metadata": {},
      "source": [
        "## Setup"
      ]
    },
    {
      "cell_type": "code",
      "execution_count": null,
      "metadata": {
        "id": "-pnTwyUBxoF5"
      },
      "outputs": [
        {
          "data": {
            "text/plain": [
              "<agentops.legacy.Session at 0x1f12f7062d0>"
            ]
          },
          "execution_count": 2,
          "metadata": {},
          "output_type": "execute_result"
        }
      ],
      "source": [
        "os.environ[\"AGENTOPS_API_KEY\"] = \"Agentops_api\"\n",
        "\n",
        "agentops.init(\n",
        "    api_key=\"AgentOPS_Api\",\n",
        "    skip_auto_end_session=True\n",
        ")"
      ]
    },
    {
      "cell_type": "code",
      "execution_count": null,
      "metadata": {
        "id": "uu075ybyy1WI"
      },
      "outputs": [],
      "source": [
        "output_dir = \"./ai-agent-output\"\n",
        "os.makedirs(output_dir, exist_ok=True)\n",
        "\n",
        "basic_llm = LLM(model=\"ollama/llama3.2:latest\", temperature=0)\n",
        "search_client = TavilyClient(api_key=\"tvly-api\")\n",
        "scrape_client = Client(api_key=\"scrapegraph-api\")"
      ]
    },
    {
      "cell_type": "code",
      "execution_count": 4,
      "metadata": {
        "id": "sMLstJBK4kex"
      },
      "outputs": [],
      "source": [
        "no_keywords = 10\n",
        "\n",
        "about_company = \"Asta is a company that provides AI solutions to help websites refine their search and recommendation systems.\"\n",
        "\n",
        "company_context = StringKnowledgeSource(\n",
        "    content=about_company\n",
        ")"
      ]
    },
    {
      "cell_type": "markdown",
      "metadata": {
        "id": "KEeJqY2pznkZ"
      },
      "source": [
        "## Setup Agents"
      ]
    },
    {
      "cell_type": "markdown",
      "metadata": {
        "id": "qVAf4lJ28MbD"
      },
      "source": [
        "### Agent: A"
      ]
    },
    {
      "cell_type": "code",
      "execution_count": 5,
      "metadata": {
        "id": "u0SavghHzpEV"
      },
      "outputs": [],
      "source": [
        "class SuggestedSearchQueries(BaseModel):\n",
        "    queries: List[str] = Field(..., title=\"Suggested search queries to be passed to the search engine\",\n",
        "                               min_items=1, max_items=no_keywords)\n",
        "\n",
        "search_queries_recommendation_agent = Agent(\n",
        "    role=\"Search Queries Recommendation Agent\",\n",
        "    goal=\"\\n\".join([\n",
        "                \"To provide a list of suggested search queries to be passed to the search engine.\",\n",
        "                \"The queries must be varied and looking for specific items.\"\n",
        "            ]),\n",
        "    backstory=\"The agent is designed to help in looking for products by providing a list of suggested search queries to be passed to the search engine based on the context provided.\",\n",
        "    llm=basic_llm,\n",
        "    verbose=True,\n",
        ")\n",
        "\n",
        "search_queries_recommendation_task = Task(\n",
        "    description=\"\\n\".join([\n",
        "        \"Rankyx is looking to buy {product_name} at the best prices (value for a price strategy)\",\n",
        "        \"The campany target any of these websites to buy from: {websites_list}\",\n",
        "        \"The company wants to reach all available proucts on the internet to be compared later in another stage.\",\n",
        "        \"The stores must sell the product in {country_name}\",\n",
        "        \"Generate at maximum {no_keywords} queries.\",\n",
        "        \"The search keywords must be in {language} language.\",\n",
        "        \"Search keywords must contains specific brands, types or technologies. Avoid general keywords.\",\n",
        "        \"The search query must reach an ecommerce webpage for product, and not a blog or listing page.\"\n",
        "    ]),\n",
        "    expected_output=\"A JSON object containing a list of suggested search queries.\",\n",
        "    output_json=SuggestedSearchQueries,\n",
        "    output_file=os.path.join(output_dir, \"step_1_suggested_search_queries.json\"),\n",
        "    agent=search_queries_recommendation_agent\n",
        "\n",
        ")"
      ]
    },
    {
      "cell_type": "markdown",
      "metadata": {
        "id": "ecrSUPhT-HmZ"
      },
      "source": [
        "### Agent: B"
      ]
    },
    {
      "cell_type": "code",
      "execution_count": 6,
      "metadata": {
        "id": "xXtf-roZ-Jvz"
      },
      "outputs": [],
      "source": [
        "class SignleSearchResult(BaseModel):\n",
        "    title: str\n",
        "    url: str = Field(..., title=\"the page url\")\n",
        "    content: str\n",
        "    score: float\n",
        "    search_query: str\n",
        "\n",
        "class AllSearchResults(BaseModel):\n",
        "    results: List[SignleSearchResult]\n",
        "\n",
        "@tool\n",
        "def search_engine_tool(query: str):\n",
        "    \"\"\"Useful for search-based queries. Use this to find current information about any query related pages using a search engine\"\"\"\n",
        "    return search_client.search(query)\n",
        "\n",
        "search_engine_agent = Agent(\n",
        "    role=\"Search Engine Agent\",\n",
        "    goal=\"To search for products based on the suggested search query\",\n",
        "    backstory=\"The agent is designed to help in looking for products by searching for products based on the suggested search queries.\",\n",
        "    llm=basic_llm,\n",
        "    verbose=True,\n",
        "    tools=[search_engine_tool]\n",
        ")\n",
        "\n",
        "search_engine_task = Task(\n",
        "    description=\"\\n\".join([\n",
        "        \"The task is to search for products based on the suggested search queries.\",\n",
        "        \"You have to collect results from multiple search queries.\",\n",
        "        \"Ignore any susbicious links or not an ecommerce single product website link.\",\n",
        "        \"Ignore any search results with confidence score less than ({score_th}) .\",\n",
        "        \"The search results will be used to compare prices of products from different websites.\",\n",
        "    ]),\n",
        "    expected_output=\"A JSON object containing the search results.\",\n",
        "    output_json=AllSearchResults,\n",
        "    output_file=os.path.join(output_dir, \"step_2_search_results.json\"),\n",
        "    agent=search_engine_agent\n",
        "    #context=search_queries_recommendation_task\n",
        ")"
      ]
    },
    {
      "cell_type": "markdown",
      "metadata": {
        "id": "DMjVBFl6YfFC"
      },
      "source": [
        "### Agent: C"
      ]
    },
    {
      "cell_type": "code",
      "execution_count": 7,
      "metadata": {
        "id": "Ejr-C8p2YgxT"
      },
      "outputs": [],
      "source": [
        "class ProductSpec(BaseModel):\n",
        "    specification_name: str\n",
        "    specification_value: str\n",
        "\n",
        "class SingleExtractedProduct(BaseModel):\n",
        "    page_url: str = Field(..., title=\"The original url of the product page\")\n",
        "    product_title: str = Field(..., title=\"The title of the product\")\n",
        "    product_image_url: str = Field(..., title=\"The url of the product image\")\n",
        "    product_url: str = Field(..., title=\"The url of the product\")\n",
        "    product_current_price: float = Field(..., title=\"The current price of the product\")\n",
        "    product_original_price: float = Field(title=\"The original price of the product before discount. Set to None if no discount\", default=None)\n",
        "    product_discount_percentage: float = Field(title=\"The discount percentage of the product. Set to None if no discount\", default=None)\n",
        "\n",
        "    product_specs: List[ProductSpec] = Field(..., title=\"The specifications of the product. Focus on the most important specs to compare.\", min_items=1, max_items=5)\n",
        "\n",
        "    agent_recommendation_rank: int = Field(..., title=\"The rank of the product to be considered in the final procurement report. (out of 5, Higher is Better) in the recommendation list ordering from the best to the worst\")\n",
        "    agent_recommendation_notes: List[str]  = Field(..., title=\"A set of notes why would you recommend or not recommend this product to the company, compared to other products.\")\n",
        "\n",
        "\n",
        "class AllExtractedProducts(BaseModel):\n",
        "    products: List[SingleExtractedProduct]\n",
        "\n",
        "\n",
        "@tool\n",
        "def web_scraping_tool(page_url: str):\n",
        "    \"\"\"\n",
        "    An AI Tool to help an agent to scrape a web page\n",
        "\n",
        "    Example:\n",
        "    web_scraping_tool(\n",
        "        page_url=\"https://www.noon.com/egypt-en/15-bar-fully-automatic-espresso-machine-1-8-l-1500\"\n",
        "    )\n",
        "    \"\"\"\n",
        "    details = scrape_client.smartscraper(\n",
        "        website_url=page_url,\n",
        "        user_prompt=\"Extract ```json\\n\" + SingleExtractedProduct.schema_json() + \"```\\n From the web page\"\n",
        "    )\n",
        "\n",
        "    return {\n",
        "        \"page_url\": page_url,\n",
        "        \"details\": details\n",
        "    }\n",
        "\n",
        "scraping_agent = Agent(\n",
        "    role=\"Web scraping agent\",\n",
        "    goal=\"To extract details from any website\",\n",
        "    backstory=\"The agent is designed to help in looking for required values from any website url. These details will be used to decide which best product to buy.\",\n",
        "    llm=basic_llm,\n",
        "    tools=[web_scraping_tool],\n",
        "    verbose=True,\n",
        ")\n",
        "\n",
        "scraping_task = Task(\n",
        "    description=\"\\n\".join([\n",
        "        \"The task is to extract product details from any ecommerce store page url.\",\n",
        "        \"The task has to collect results from multiple pages urls.\",\n",
        "        \"Collect the best {top_recommendations_no} products from the search results.\",\n",
        "    ]),\n",
        "    expected_output=\"A JSON object containing products details\",\n",
        "    output_json=AllExtractedProducts,\n",
        "    output_file=os.path.join(output_dir, \"step_3_search_results.json\"),\n",
        "    agent=scraping_agent\n",
        ")"
      ]
    },
    {
      "cell_type": "markdown",
      "metadata": {
        "id": "MMQjc8eHgQd0"
      },
      "source": [
        "### Agent: D"
      ]
    },
    {
      "cell_type": "code",
      "execution_count": 8,
      "metadata": {
        "id": "joLe-Mr3gSNs"
      },
      "outputs": [],
      "source": [
        "procurement_report_author_agent = Agent(\n",
        "    role=\"Procurement Report Author Agent\",\n",
        "    goal=\"To generate a professional HTML page for the procurement report\",\n",
        "    backstory=\"The agent is designed to assist in generating a professional HTML page for the procurement report after looking into a list of products.\",\n",
        "    llm=basic_llm,\n",
        "    verbose=True,\n",
        ")\n",
        "\n",
        "procurement_report_author_task = Task(\n",
        "    description=\"\\n\".join([\n",
        "        \"The task is to generate a professional HTML page for the procurement report.\",\n",
        "        \"You have to use Bootstrap CSS framework for a better UI.\",\n",
        "        \"Use the provided context about the company to make a specialized report.\",\n",
        "        \"The report will include the search results and prices of products from different websites.\",\n",
        "        \"The report should be structured with the following sections:\",\n",
        "        \"1. Executive Summary: A brief overview of the procurement process and key findings.\",\n",
        "        \"2. Introduction: An introduction to the purpose and scope of the report.\",\n",
        "        \"3. Methodology: A description of the methods used to gather and compare prices.\",\n",
        "        \"4. Findings: Detailed comparison of prices from different websites, including tables and charts.\",\n",
        "        \"5. Analysis: An analysis of the findings, highlighting any significant trends or observations.\",\n",
        "        \"6. Recommendations: Suggestions for procurement based on the analysis.\",\n",
        "        \"7. Conclusion: A summary of the report and final thoughts.\",\n",
        "        \"8. Appendices: Any additional information, such as raw data or supplementary materials.\",\n",
        "    ]),\n",
        "\n",
        "    expected_output=\"A professional HTML page for the procurement report.\",\n",
        "    output_file=os.path.join(output_dir, \"step_4_procurement_report.html\"),\n",
        "    agent=procurement_report_author_agent,\n",
        ")"
      ]
    },
    {
      "cell_type": "markdown",
      "metadata": {
        "id": "JObrx_tu5mGd"
      },
      "source": [
        "## Run the AI Crew"
      ]
    },
    {
      "cell_type": "code",
      "execution_count": 9,
      "metadata": {
        "id": "nFYBBb1W5oVp"
      },
      "outputs": [],
      "source": [
        "rankyx_crew = Crew(\n",
        "    agents=[\n",
        "        search_queries_recommendation_agent,\n",
        "        search_engine_agent,\n",
        "        scraping_agent,\n",
        "        procurement_report_author_agent,\n",
        "    ],\n",
        "    tasks=[\n",
        "        search_queries_recommendation_task,\n",
        "        search_engine_task,\n",
        "        scraping_task,\n",
        "        procurement_report_author_task,\n",
        "    ],\n",
        "    process=Process.sequential,\n",
        "    knowledge_sources=[company_context]\n",
        ")"
      ]
    },
    {
      "cell_type": "code",
      "execution_count": null,
      "metadata": {
        "colab": {
          "base_uri": "https://localhost:8080/",
          "height": 1000
        },
        "id": "gcQw4kcn6Gnj",
        "outputId": "9422dab4-ee4b-41e3-b5f6-0eb55c7c548d"
      },
      "outputs": [
        {
          "name": "stderr",
          "output_type": "stream",
          "text": [
            "🖇 AgentOps: \u001b[34m\u001b[34mSession Replay: https://app.agentops.ai/sessions?trace_id=b9a04f2fea150a97d0a9d3fe31ea9ff5\u001b[0m\u001b[0m\n"
          ]
        },
        {
          "name": "stdout",
          "output_type": "stream",
          "text": [
            "\u001b[1m\u001b[95m# Agent:\u001b[00m \u001b[1m\u001b[92mSearch Queries Recommendation Agent\u001b[00m\n",
            "\u001b[95m## Task:\u001b[00m \u001b[92mRankyx is looking to buy coffee machine for the office at the best prices (value for a price strategy)\n",
            "The campany target any of these websites to buy from: ['www.amazon.eg', 'www.jumia.com.eg', 'www.noon.com/egypt-en']\n",
            "The company wants to reach all available proucts on the internet to be compared later in another stage.\n",
            "The stores must sell the product in Egypt\n",
            "Generate at maximum 10 queries.\n",
            "The search keywords must be in English language.\n",
            "Search keywords must contains specific brands, types or technologies. Avoid general keywords.\n",
            "The search query must reach an ecommerce webpage for product, and not a blog or listing page.\u001b[00m\n",
            "\n",
            "\n",
            "\u001b[1m\u001b[95m# Agent:\u001b[00m \u001b[1m\u001b[92mSearch Queries Recommendation Agent\u001b[00m\n",
            "\u001b[95m## Final Answer:\u001b[00m \u001b[92m\n",
            "{\"queries\": [\"coffee machine for office amazon eg\", \"best coffee machines jumia com eg\", \"office coffee makers noon com eg\", \" Nespresso coffee machines for office amazon eg\", \"Dolce Gusto coffee machines for sale jumia com eg\", \"French press coffee makers for office noon com eg\", \"single serve coffee machines for office amazon eg\", \"coffee machine with grinder jumia com eg\", \"coffee machine for small office noon com eg\", \"automatic coffee machines for office amazon eg\"]}\u001b[00m\n",
            "\n",
            "\n",
            "\u001b[1m\u001b[95m# Agent:\u001b[00m \u001b[1m\u001b[92mSearch Engine Agent\u001b[00m\n",
            "\u001b[95m## Task:\u001b[00m \u001b[92mThe task is to search for products based on the suggested search queries.\n",
            "You have to collect results from multiple search queries.\n",
            "Ignore any susbicious links or not an ecommerce single product website link.\n",
            "Ignore any search results with confidence score less than (0.1) .\n",
            "The search results will be used to compare prices of products from different websites.\u001b[00m\n",
            "\n",
            "\n",
            "\u001b[1m\u001b[95m# Agent:\u001b[00m \u001b[1m\u001b[92mSearch Engine Agent\u001b[00m\n",
            "\u001b[95m## Using tool:\u001b[00m \u001b[92msearch_engine_tool\u001b[00m\n",
            "\u001b[95m## Tool Input:\u001b[00m \u001b[92m\n",
            "\"{\\\"query\\\": \\\"coffee machine for office amazon eg\\\"}\"\u001b[00m\n",
            "\u001b[95m## Tool Output:\u001b[00m \u001b[92m\n",
            "{'query': 'coffee machine for office amazon eg', 'follow_up_questions': None, 'answer': None, 'images': [], 'results': [{'title': 'Coffee Machines: Buy Online at Best Prices in Egypt | Souq is now Amazon.eg', 'url': 'https://www.amazon.eg/-/en/Coffee-Makers/b?ie=UTF8&node=21864088031', 'content': 'EGP 463.00EGP463.00 SOKANY SK-214 500ml Stainless Steel Coffee Machine Greek Turkish Coffee Maker Portable Waterproof Electric Hot Boiled Pot Home (Assorted Colors) 3.8 out of 5 stars 111 EGP 1,500.00EGP1,500.00 EGP 3,087.00 Black & Decker 450w 2 cups coffee maker machine 250ml water tank capacity with two mugs for drip and espresso dcm48 b5 year warranty red 3.7 out of 5 stars 133 EGP 1,500.00EGP1,500.00 EGP 3,087.00 Black & Decker 450w 2 cups coffee maker machine 250ml water tank capacity with two mugs for drip and espresso dcm48 b5 year warranty red 3.7 out of 5 stars 133 EGP 463.00EGP463.00 SOKANY SK-214 500ml Stainless Steel Coffee Machine Greek Turkish Coffee Maker Portable Waterproof Electric Hot Boiled Pot Home (Assorted Colors) 3.8 out of 5 stars 111', 'score': 0.73755574, 'raw_content': None}, {'title': 'Amazon.com: Coffee Machine Office', 'url': 'https://www.amazon.com/coffee-machine-office/s?k=coffee+machine+office', 'content': 'Mueller 12-Cup Drip Coffee Maker - Borosilicate Carafe, Auto-Off, Reusable Filter, Anti-Drip, Keep-Warm Function, Clear Water Level Window Coffee Machine, Ideal for Home or Office 4.3 out of 5 stars 4,094', 'score': 0.67911536, 'raw_content': None}, {'title': 'Espresso & Cappuccino Machines: Buy Online at Best Prices in Egypt ...', 'url': 'https://www.amazon.eg/-/en/Espresso-Machines/b?ie=UTF8&node=21864618031', 'content': \"EGP 8,999.00EGP8,999.00 De'Longhi ECP33.21 Traditional Barista Pump Espresso Machine, Coffee and Cappuccino Maker, Black 4.0 out of 5 stars 1,303 EGP 18,399.00EGP18,399.00 De'Longhi Pump Espresso and Cappuccino Coffee Machine - Silver EC 850.M 3.9 out of 5 stars 7 EGP 8,999.00EGP8,999.00 De'Longhi ECP33.21 Traditional Barista Pump Espresso Machine, Coffee and Cappuccino Maker, Black 4.0 out of 5 stars 1,303 EGP 18,399.00EGP18,399.00 De'Longhi Pump Espresso and Cappuccino Coffee Machine - Silver EC 850.M 3.9 out of 5 stars 7 EGP 10,500.00EGP10,500.00 DSP espresso machine, espresso coffee machine, espresso maker, coffee machine,2 0 Bar - 1050W, 1.5L Tank, Stainless Steel, Automatic with Safety Valve and Temperature Control, KA3113 3.0 out of 5 stars 1 About Amazon\", 'score': 0.6557114, 'raw_content': None}, {'title': 'Amazon.com: Best Office Coffee Maker', 'url': 'https://www.amazon.com/Best-Office-Coffee-Maker/s?k=Best+Office+Coffee+Maker', 'content': '12-Cup Commercial Coffee Maker Stainless Steel - Double Coffee Machine for Office, Restaurant, Industrial Use - High Capacity Office Coffee Maker - TQS Cafe 4.8 out of 5 stars 30', 'score': 0.6369636, 'raw_content': None}, {'title': 'آلات القهوة - أمازون مصر', 'url': 'https://www.amazon.eg/الات-القهوة/b?ie=UTF8&node=21864088031', 'content': '\\u200f2,072.83 جنيهجنيه\\u200e2,072.\\u200e83\\u200f \\u200f3,411.00 جنيه ماكينة تحضير القهوة DCM750S مع إبريق زجاجي من بلاك اند ديكير، أسود - 750 وات، ستانلس ستيل 4.3 من 5 نجوم 1,124 \\u200f417.50 جنيهجنيه\\u200e417.\\u200e50\\u200f \\u200f466.00 جنيه ماكينة كهربائية لتحضير القهوة التركي واليوناني من الفولاذ المقاوم للصدأ سوكاني بتصميم محمول ومقاوم للماء كنكة لتسخين الماء في المنزل 500 ملليلتر موديل SK-214 ألوان متعددة ستانلس ستيل 3.8 من 5 نجوم 119 \\u200f417.50 جنيهجنيه\\u200e417.\\u200e50\\u200f \\u200f466.00 جنيه ماكينة كهربائية لتحضير القهوة التركي واليوناني من الفولاذ المقاوم للصدأ سوكاني بتصميم محمول ومقاوم للماء كنكة لتسخين الماء في المنزل 500 ملليلتر موديل SK-214 ألوان متعددة ستانلس ستيل 3.8 من 5 نجوم 119 \\u200f2,072.83 جنيهجنيه\\u200e2,072.\\u200e83\\u200f \\u200f3,411.00 جنيه ماكينة تحضير القهوة DCM750S مع إبريق زجاجي من بلاك اند ديكير، أسود - 750 وات، ستانلس ستيل 4.3 من 5 نجوم 1,124', 'score': 0.3925004, 'raw_content': None}], 'response_time': 2.01}\u001b[00m\n",
            "\n",
            "\n",
            "\u001b[1m\u001b[95m# Agent:\u001b[00m \u001b[1m\u001b[92mSearch Engine Agent\u001b[00m\n",
            "\u001b[95m## Using tool:\u001b[00m \u001b[92msearch_engine_tool\u001b[00m\n",
            "\u001b[95m## Tool Input:\u001b[00m \u001b[92m\n",
            "\"{\\\"query\\\": \\\"coffee machine for office amazon eg\\\"}\"\u001b[00m\n",
            "\u001b[95m## Tool Output:\u001b[00m \u001b[92m\n",
            "I tried reusing the same input, I must stop using this action input. I'll try something else instead.\n",
            "\n",
            "\u001b[00m\n",
            "\n",
            "\n",
            "\u001b[1m\u001b[95m# Agent:\u001b[00m \u001b[1m\u001b[92mSearch Engine Agent\u001b[00m\n",
            "\u001b[95m## Using tool:\u001b[00m \u001b[92msearch_engine_tool\u001b[00m\n",
            "\u001b[95m## Tool Input:\u001b[00m \u001b[92m\n",
            "\"{\\\"query\\\": \\\"coffee machine office amazon eg\\\"}\"\u001b[00m\n",
            "\u001b[95m## Tool Output:\u001b[00m \u001b[92m\n",
            "{'query': 'coffee machine office amazon eg', 'follow_up_questions': None, 'answer': None, 'images': [], 'results': [{'title': 'Coffee Machines: Buy Online at Best Prices in Egypt | Souq is now Amazon.eg', 'url': 'https://www.amazon.eg/-/en/Coffee-Makers/b?ie=UTF8&node=21864088031', 'content': 'EGP 463.00EGP463.00 SOKANY SK-214 500ml Stainless Steel Coffee Machine Greek Turkish Coffee Maker Portable Waterproof Electric Hot Boiled Pot Home (Assorted Colors) 3.8 out of 5 stars 111 EGP 1,500.00EGP1,500.00 EGP 3,087.00 Black & Decker 450w 2 cups coffee maker machine 250ml water tank capacity with two mugs for drip and espresso dcm48 b5 year warranty red 3.7 out of 5 stars 133 EGP 1,500.00EGP1,500.00 EGP 3,087.00 Black & Decker 450w 2 cups coffee maker machine 250ml water tank capacity with two mugs for drip and espresso dcm48 b5 year warranty red 3.7 out of 5 stars 133 EGP 463.00EGP463.00 SOKANY SK-214 500ml Stainless Steel Coffee Machine Greek Turkish Coffee Maker Portable Waterproof Electric Hot Boiled Pot Home (Assorted Colors) 3.8 out of 5 stars 111', 'score': 0.7447496, 'raw_content': None}, {'title': 'Coffee Machines: Buy Online At Best Prices In Egypt | Souq Is Now Amazon.eg', 'url': 'https://www.amazon.eg/-/en/Coffee-Machines-Tea-Espresso/s?srs=27200722031&rh=n:21864088031', 'content': 'Home & Kitchen Bean-to-Cup Coffee Machines, Built-in Coffee Machines, Cold Brew Coffee Makers, Drip Coffee Machines and more from the wide range of products, online shopping at best prices :amazon.eg', 'score': 0.7443038, 'raw_content': None}, {'title': 'Proffesional Coffee Machines|Nespresso Pro|Nespresso Egypt', 'url': 'https://www.buynespresso.com/eg_en/business/professional-coffee-machines.html', 'content': \"4 Coffee Machines for Small Office. Zenius Spring Bundle. Get a Zenius machine, 100 coffee capsules & Professional Espresso cups for 29,999 EGP ... Enjoy the Zenius machine, 200 coffee capsules, and a milk frother for just 34,999 EGP. Don't miss this incredible deal! Special Price EGP34,999.00 Regular Price EGP58,598.00 (40% off) View Details\", 'score': 0.6954834, 'raw_content': None}, {'title': 'Amazon.com: Coffee Machine Office', 'url': 'https://www.amazon.com/coffee-machine-office/s?k=coffee+machine+office', 'content': 'Keurig K-Express Single Serve K-Cup Pod Coffee Maker, 3 Brew Sizes, Strong Button Feature, 42oz Removable Reservoir, Black Keurig K-Duo Single Serve K-Cup Pod & Carafe Coffee Maker, with Multiple Brew Sizes, 60oz Removable Reservoir, Programmable Auto Brew Carafe, (Gen 1), Black Taylor Swoden 12-Cup Programmable Coffee Maker, Regular & Strong Brew Drip Coffee Machine for Home and Office, Glass Carafe, Pause & Serve, Auto Shut Off, Black & Stainless Steel Keurig K-Compact Single-Serve K-Cup Pod Coffee Maker, with 3 Brew Sizes, Smart Start Feature, 36oz Removable Reservoir, Black Amazon Basics Coffee Makers, 5-Cup Coffee Machines with Reusable Filter, Coffee Pots, Black & Stainless Steel About Amazon', 'score': 0.69049704, 'raw_content': None}, {'title': 'Espresso & Cappuccino Machines: Buy Online at Best Prices in Egypt ...', 'url': 'https://www.amazon.eg/-/en/Espresso-Machines/b?ie=UTF8&node=21864618031', 'content': \"EGP 8,999.00EGP8,999.00 De'Longhi ECP33.21 Traditional Barista Pump Espresso Machine, Coffee and Cappuccino Maker, Black 4.0 out of 5 stars 1,303 EGP 18,399.00EGP18,399.00 De'Longhi Pump Espresso and Cappuccino Coffee Machine - Silver EC 850.M 3.9 out of 5 stars 7 EGP 8,999.00EGP8,999.00 De'Longhi ECP33.21 Traditional Barista Pump Espresso Machine, Coffee and Cappuccino Maker, Black 4.0 out of 5 stars 1,303 EGP 18,399.00EGP18,399.00 De'Longhi Pump Espresso and Cappuccino Coffee Machine - Silver EC 850.M 3.9 out of 5 stars 7 EGP 10,500.00EGP10,500.00 DSP espresso machine, espresso coffee machine, espresso maker, coffee machine,2 0 Bar - 1050W, 1.5L Tank, Stainless Steel, Automatic with Safety Valve and Temperature Control, KA3113 3.0 out of 5 stars 1 About Amazon\", 'score': 0.6506676, 'raw_content': None}], 'response_time': 1.81}\n",
            "\n",
            "\n",
            "You ONLY have access to the following tools, and should NEVER make up tools that are not listed here:\n",
            "\n",
            "Tool Name: search_engine_tool\n",
            "Tool Arguments: {'query': {'description': None, 'type': 'str'}}\n",
            "Tool Description: Useful for search-based queries. Use this to find current information about any query related pages using a search engine\n",
            "\n",
            "IMPORTANT: Use the following format in your response:\n",
            "\n",
            "```\n",
            "Thought: you should always think about what to do\n",
            "Action: the action to take, only one name of [search_engine_tool], just the name, exactly as it's written.\n",
            "Action Input: the input to the action, just a simple JSON object, enclosed in curly braces, using \" to wrap keys and values.\n",
            "Observation: the result of the action\n",
            "```\n",
            "\n",
            "Once all necessary information is gathered, return the following format:\n",
            "\n",
            "```\n",
            "Thought: I now know the final answer\n",
            "Final Answer: the final answer to the original input question\n",
            "```\u001b[00m\n",
            "\n",
            "\n",
            "\u001b[1m\u001b[95m# Agent:\u001b[00m \u001b[1m\u001b[92mSearch Engine Agent\u001b[00m\n",
            "\u001b[95m## Using tool:\u001b[00m \u001b[92msearch_engine_tool\u001b[00m\n",
            "\u001b[95m## Tool Input:\u001b[00m \u001b[92m\n",
            "\"{\\\"query\\\": \\\"coffee machine office\\\"}\"\u001b[00m\n",
            "\u001b[95m## Tool Output:\u001b[00m \u001b[92m\n",
            "{'query': 'coffee machine office', 'follow_up_questions': None, 'answer': None, 'images': [], 'results': [{'title': '59 Best Office Coffee Machines For Work ☕️ - SnackNation', 'url': 'https://snacknation.com/blog/office-coffee-machines/', 'content': 'For most people, coffee is just as essential to a productive office life as paper, pencils, phones, or even computers. Office coffee machines—specifically the best office coffee machines—could mean the difference between a buzzing office (pun intended) and a boring sprawl of office zombies. But what is the best office coffee machine for you? Today, we get to choose from a plethora of', 'score': 0.82425016, 'raw_content': None}, {'title': '10 Best Office Espresso/Coffee Machines (2024 Updated)', 'url': 'https://majestycoffee.com/pages/best-office-espresso-coffee-machines', 'content': \"Every office should have a good espresso or coffee machine. In this guide, we'll show you ten of the best office espresso/coffee machine options out there to help make your decision easier.\", 'score': 0.7734393, 'raw_content': None}, {'title': '15 Best Coffee Machines for Office Use: Brew the Perfect Cup for Your ...', 'url': 'https://cappuccinooracle.com/vetted/best-coffee-machines-for-office-use/', 'content': \"Find the ideal coffee machine for your office with our top 15 picks that promise efficiency and flavor—discover which one suits your team's needs!\", 'score': 0.756376, 'raw_content': None}, {'title': 'Amazon.com: Best Office Coffee Maker', 'url': 'https://www.amazon.com/Best-Office-Coffee-Maker/s?k=Best+Office+Coffee+Maker', 'content': 'Cuisinart Coffee Maker, Single Serve 72-Ounce Reservoir Coffee Machine, Programmable Brewing & Hot Water Dispenser, Stainless Steel, SS-10P1,Silver', 'score': 0.73642004, 'raw_content': None}, {'title': '9 Best Office Coffee Makers Reviewed in Detail (Winter 2025)', 'url': 'https://coffeevibe.org/best-office-coffee-maker/', 'content': 'Choosing the perfect machine to brew a high-quality beverage for you and co-workers to enjoy? In this review we found the best office coffee maker!', 'score': 0.71425, 'raw_content': None}], 'response_time': 1.93}\u001b[00m\n",
            "\n",
            "\n",
            "\u001b[1m\u001b[95m# Agent:\u001b[00m \u001b[1m\u001b[92mSearch Engine Agent\u001b[00m\n",
            "\u001b[95m## Final Answer:\u001b[00m \u001b[92m\n",
            "You can find a variety of office coffee machines that suit your needs, including espresso and single-serve options, on websites such as SnackNation, Majesty Coffee, Cappuccino Oracle, Amazon, and Coffee Vibe.\u001b[00m\n",
            "\n",
            "\n",
            "\u001b[91m Failed to convert text into JSON, error: 1 validation error for AllSearchResults\n",
            "results\n",
            "  Field required [type=missing, input_value={'$defs': '{'}, input_type=dict]\n",
            "    For further information visit https://errors.pydantic.dev/2.11/v/missing. Using raw output instead.\u001b[00m\n",
            "\u001b[1m\u001b[95m# Agent:\u001b[00m \u001b[1m\u001b[92mWeb scraping agent\u001b[00m\n",
            "\u001b[95m## Task:\u001b[00m \u001b[92mThe task is to extract product details from any ecommerce store page url.\n",
            "The task has to collect results from multiple pages urls.\n",
            "Collect the best 3 products from the search results.\u001b[00m\n",
            "\u001b[91m \n",
            "\n",
            "I encountered an error while trying to use the tool. This was the error: [422] Failed to process request, check a more detailed error message in dashboard.scrapegraphai.com.\n",
            " Tool web_scraping_tool accepts these inputs: Tool Name: web_scraping_tool\n",
            "Tool Arguments: {'page_url': {'description': None, 'type': 'str'}}\n",
            "Tool Description: \n",
            "    An AI Tool to help an agent to scrape a web page\n",
            "\n",
            "    Example:\n",
            "    web_scraping_tool(\n",
            "        page_url=\"https://www.noon.com/egypt-en/15-bar-fully-automatic-espresso-machine-1-8-l-1500\"\n",
            "    )\n",
            "    \n",
            "\u001b[00m\n",
            "\n",
            "\n",
            "\u001b[1m\u001b[95m# Agent:\u001b[00m \u001b[1m\u001b[92mWeb scraping agent\u001b[00m\n",
            "\u001b[95m## Using tool:\u001b[00m \u001b[92mweb_scraping_tool\u001b[00m\n",
            "\u001b[95m## Tool Input:\u001b[00m \u001b[92m\n",
            "\"{\\\"page_url\\\": \\\"https://www.noon.com/egypt-en/15-bar-fully-automatic-espresso-machine-1-8-l-1500\\\"}\"\u001b[00m\n",
            "\u001b[95m## Tool Output:\u001b[00m \u001b[92m\n",
            "\n",
            "I encountered an error while trying to use the tool. This was the error: [422] Failed to process request, check a more detailed error message in dashboard.scrapegraphai.com.\n",
            " Tool web_scraping_tool accepts these inputs: Tool Name: web_scraping_tool\n",
            "Tool Arguments: {'page_url': {'description': None, 'type': 'str'}}\n",
            "Tool Description: \n",
            "    An AI Tool to help an agent to scrape a web page\n",
            "\n",
            "    Example:\n",
            "    web_scraping_tool(\n",
            "        page_url=\"https://www.noon.com/egypt-en/15-bar-fully-automatic-espresso-machine-1-8-l-1500\"\n",
            "    )\n",
            "    .\n",
            "Moving on then. I MUST either use a tool (use one at time) OR give my best final answer not both at the same time. When responding, I must use the following format:\n",
            "\n",
            "```\n",
            "Thought: you should always think about what to do\n",
            "Action: the action to take, should be one of [web_scraping_tool]\n",
            "Action Input: the input to the action, dictionary enclosed in curly braces\n",
            "Observation: the result of the action\n",
            "```\n",
            "This Thought/Action/Action Input/Result can repeat N times. Once I know the final answer, I must return the following format:\n",
            "\n",
            "```\n",
            "Thought: I now can give a great answer\n",
            "Final Answer: Your final answer must be the great and the most complete as possible, it must be outcome described\n",
            "\n",
            "```\u001b[00m\n",
            "\u001b[91m \n",
            "\n",
            "I encountered an error while trying to use the tool. This was the error: [422] Failed to process request, check a more detailed error message in dashboard.scrapegraphai.com.\n",
            " Tool web_scraping_tool accepts these inputs: Tool Name: web_scraping_tool\n",
            "Tool Arguments: {'page_url': {'description': None, 'type': 'str'}}\n",
            "Tool Description: \n",
            "    An AI Tool to help an agent to scrape a web page\n",
            "\n",
            "    Example:\n",
            "    web_scraping_tool(\n",
            "        page_url=\"https://www.noon.com/egypt-en/15-bar-fully-automatic-espresso-machine-1-8-l-1500\"\n",
            "    )\n",
            "    \n",
            "\u001b[00m\n",
            "\n",
            "\n",
            "\u001b[1m\u001b[95m# Agent:\u001b[00m \u001b[1m\u001b[92mWeb scraping agent\u001b[00m\n",
            "\u001b[95m## Using tool:\u001b[00m \u001b[92mweb_scraping_tool\u001b[00m\n",
            "\u001b[95m## Tool Input:\u001b[00m \u001b[92m\n",
            "\"{\\\"page_url\\\": \\\"https://www.noon.com/egypt-en/15-bar-fully-automatic-espresso-machine-1-8-l-1500\\\"}\"\u001b[00m\n",
            "\u001b[95m## Tool Output:\u001b[00m \u001b[92m\n",
            "\n",
            "I encountered an error while trying to use the tool. This was the error: [422] Failed to process request, check a more detailed error message in dashboard.scrapegraphai.com.\n",
            " Tool web_scraping_tool accepts these inputs: Tool Name: web_scraping_tool\n",
            "Tool Arguments: {'page_url': {'description': None, 'type': 'str'}}\n",
            "Tool Description: \n",
            "    An AI Tool to help an agent to scrape a web page\n",
            "\n",
            "    Example:\n",
            "    web_scraping_tool(\n",
            "        page_url=\"https://www.noon.com/egypt-en/15-bar-fully-automatic-espresso-machine-1-8-l-1500\"\n",
            "    )\n",
            "    .\n",
            "Moving on then. I MUST either use a tool (use one at time) OR give my best final answer not both at the same time. When responding, I must use the following format:\n",
            "\n",
            "```\n",
            "Thought: you should always think about what to do\n",
            "Action: the action to take, should be one of [web_scraping_tool]\n",
            "Action Input: the input to the action, dictionary enclosed in curly braces\n",
            "Observation: the result of the action\n",
            "```\n",
            "This Thought/Action/Action Input/Result can repeat N times. Once I know the final answer, I must return the following format:\n",
            "\n",
            "```\n",
            "Thought: I now can give a great answer\n",
            "Final Answer: Your final answer must be the great and the most complete as possible, it must be outcome described\n",
            "\n",
            "```\u001b[00m\n"
          ]
        }
      ],
      "source": [
        "crew_results = rankyx_crew.kickoff(\n",
        "    inputs={\n",
        "        \"product_name\": \"coffee machine for the office\",\n",
        "        \"websites_list\": [\"www.amazon.eg\", \"www.jumia.com.eg\", \"www.noon.com/egypt-en\"],\n",
        "        \"country_name\": \"Egypt\",\n",
        "        \"no_keywords\": 10,\n",
        "        \"language\": \"English\",\n",
        "        \"score_th\": 0.10,\n",
        "        \"top_recommendations_no\": 3\n",
        "    }\n",
        ")"
      ]
    }
  ],
  "metadata": {
    "colab": {
      "provenance": []
    },
    "kernelspec": {
      "display_name": "crew-venv",
      "language": "python",
      "name": "python3"
    },
    "language_info": {
      "codemirror_mode": {
        "name": "ipython",
        "version": 3
      },
      "file_extension": ".py",
      "mimetype": "text/x-python",
      "name": "python",
      "nbconvert_exporter": "python",
      "pygments_lexer": "ipython3",
      "version": "3.11.11"
    }
  },
  "nbformat": 4,
  "nbformat_minor": 0
}
